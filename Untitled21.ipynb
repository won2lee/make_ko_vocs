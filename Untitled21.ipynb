{
  "nbformat": 4,
  "nbformat_minor": 0,
  "metadata": {
    "colab": {
      "name": "Untitled21.ipynb",
      "private_outputs": true,
      "provenance": [],
      "machine_shape": "hm",
      "authorship_tag": "ABX9TyOCPgLe5Mi9KUdFHOlUtQdz",
      "include_colab_link": true
    },
    "kernelspec": {
      "name": "python3",
      "display_name": "Python 3"
    },
    "language_info": {
      "name": "python"
    }
  },
  "cells": [
    {
      "cell_type": "markdown",
      "metadata": {
        "id": "view-in-github",
        "colab_type": "text"
      },
      "source": [
        "<a href=\"https://colab.research.google.com/github/won2lee/make_ko_vocs/blob/master/Untitled21.ipynb\" target=\"_parent\"><img src=\"https://colab.research.google.com/assets/colab-badge.svg\" alt=\"Open In Colab\"/></a>"
      ]
    },
    {
      "cell_type": "code",
      "metadata": {
        "id": "aLjQQHhG8j5r"
      },
      "source": [
        "!wget https://dumps.wikimedia.org/kowiki/latest/kowiki-latest-pages-articles-multistream6.xml-p1770441p2962814.bz2"
      ],
      "execution_count": null,
      "outputs": []
    },
    {
      "cell_type": "code",
      "metadata": {
        "id": "Xud3e54F-W0a"
      },
      "source": [
        "ls -al"
      ],
      "execution_count": null,
      "outputs": []
    },
    {
      "cell_type": "code",
      "metadata": {
        "id": "iXhDydAB9GOz"
      },
      "source": [
        "!bzip2 -d kowiki-latest-pages-articles-multistream6.xml-p1770441p2962814.bz2"
      ],
      "execution_count": null,
      "outputs": []
    },
    {
      "cell_type": "code",
      "metadata": {
        "id": "vf-5eGRe9UXF"
      },
      "source": [
        "import re\n",
        "\n",
        "#p = re.compile('^\\s*[\\|\\!\\/\\:\\;\\*\\,\\{\\#]')\n",
        "p0 = re.compile('\\s*[\\|\\!\\/\\:\\;\\*\\,\\{\\#\\<]') #'\\;\\#]')\n",
        "p1 = re.compile('\\<[Rr]ef(?!\\<\\/ref).*\\<\\/ref\\>')\n",
        "p3 = re.compile('\\{\\{[^\\}\\{]{1,100}\\}\\}')\n",
        "p5 = re.compile('\\{\\{[^\\}\\{]{1,500}\\}\\}')\n",
        "p7 = re.compile('\\<div(?!\\<\\/div).{1,300}\\<\\/div\\>')\n",
        "p9 = re.compile('\\[http[^\\]]+\\]')\n",
        "p11 = re.compile('\\<\\!\\-\\-(?!\\-\\-\\>).*\\-\\-\\>')\n",
        "#p13 = re.compile('\\[\\[[^\\]\\|]+\\]\\]')\n",
        "p15 = re.compile('\\<nowiki(?!\\<\\/).*\\<\\/nowiki\\>')\n",
        "p17 = re.compile('\\[\\[([^\\|\\]]+\\|)*(?P<t17>[^\\]]{1,120})\\]\\]')\n",
        "p19 = re.compile('\\&nbsp\\;')\n",
        "p21 = re.compile('\\{\\{\\s*convert\\|(?P<t21>[0-9]+)\\|(?P<t21_1>[^\\|]+)\\|[^\\}]+\\}\\}')\n",
        "p23 = re.compile(\"\\'\\'\\'\")\n",
        "p25 = re.compile(\"\\'\\'\")\n",
        "p27 = re.compile('\\<ref(?!\\/\\>).*\\/\\>')\n",
        "p29 = re.compile('[0-9\\,\\.\\-\\+\\=\\*]{30,}')\n",
        "p31 = re.compile('\\{\\{\\#tag(?!\\}\\}).*(\\}\\})*')\n",
        "p33 = re.compile('\\<\\/*blockquote\\>')\n",
        "p34 = re.compile('(?P<t34>(al|etc)\\.)\\s') #보호 문자 첨부 ħ\n",
        "p35 = re.compile('(?P<t35>[a-z가-힣][a-z가-힣\\)][\\.\\?\\!][\\\"]*)\\s+')\n",
        "p36 = re.compile('ħ') # 보호 문자 해제 ħ\n",
        "p37 = re.compile('(COMMENT\\:*|Ris\\s*[0-9][0-9]|File\\:|Bot\\:)')  #패러그랩 단위에서 체크\n",
        "p39 = re.compile('(\\(UTC\\)|\\{\\{|\\}\\}|\\<\\/*math\\>)') # 문장단위에서 체크\n",
        "#p39 = re.compile('\\(talk\\)(?!\\(UTC\\)).*\\(UTC\\)') # 문장단위에서 체크\n",
        "p41 = re.compile('(?P<t41a>[0-9][0-9])\\.\\s(?P<t41b>[A-Z])')\n",
        "p43 = re.compile('[\\.\\?\\!]\\\"*$')\n",
        "p45 = re.compile('\\<ref.*')\n",
        "p46 = re.compile('\\<\\/*[suipU]\\>')\n",
        "p47 = re.compile('\\<\\/*(sub|em|code|sup|ref|REF|SMALL|small|big|br|nowiki|span|var|tt|kbd|chem|cite|i|abbr|syntax)[^\\>]*\\>')\n",
        "p48 = re.compile('[\\[\\]]')\n",
        "#p47 = re.compile('(\\<\\/*[su]\\>|[\\[\\]]|\\<\\/*sub\\>|\\<\\/*em\\>|\\<\\/*code\\>|\\<\\/*sup\\>|\\<\\/*ref\\>|\\<\\/*SMALL\\>)')\n",
        "p49 = re.compile('https*\\:[^\\s]+')\n",
        "p51 = re.compile('(\\(\\s*\\,[^\\)]*\\)|\\([^\\,]*\\,\\s*\\)|\\(\\s*\\))')\n",
        "p53 = re.compile('[^\\s]{30,}')\n",
        "p55 = re.compile('File\\:')\n",
        "p57 = re.compile('[가-힣\\s]')\n",
        "\n",
        "z = re.compile('\\s+')\n",
        "\n",
        "edW = \"\"\"Hello Welcome Hi Wikipedia wikipedia You you I My my page Edit edit Article article submission \n",
        "Please please Thank thank Typography Font font redirect Categor Redirect User user talk \n",
        "log Talk Remov remov message delet website am\"\"\"\n",
        "edW = z.sub(' ',edW).split(' ')\n",
        "p_m = [re.compile(w) for w in edW]\n",
        "\n",
        "edWK = \"\"\"위키 백과 문서 편집 작성 관리자 사용자 니다\"\"\"\n",
        "edWK = z.sub(' ',edWK).split(' ')\n",
        "p_m2 = [re.compile(w) for w in edWK]"
      ],
      "execution_count": null,
      "outputs": []
    },
    {
      "cell_type": "code",
      "metadata": {
        "id": "-fMxWTgr9WBu"
      },
      "source": [
        "from xml.etree import ElementTree as ET\n",
        "import re\n",
        "\n",
        "step =1000\n",
        "fstep = 1000*10\n",
        "path = 'wiK/'\n",
        "srcpath = \"kowiki-latest-pages-articles-multistream\"\n",
        "\n",
        "txtX = []\n",
        "n_iter = 0*fstep #1\n",
        "with open(path+'wiki_ko'+str(n_iter//fstep)+'.txt','w') as f:\n",
        "    f.write('')\n",
        "#wiF = [\"1.xml-p1p76864\",\"2.xml-p76865p239412\",\"3.xml-p239413p512439\"]\n",
        "#wiF = [\"4.xml-p512440p915641\",\"5.xml-p915642p1626757\",\"6.xml-p1626758p2834702\"]\n",
        "wiF = [\"6.xml-p1770441p2962814\"]\n",
        "pppp = \"{http://www.mediawiki.org/xml/export-0.10/}\"\n",
        "txtX = []\n",
        "\n",
        "for iw,fw in enumerate(wiF):\n",
        "\n",
        "    X = ET.parse(srcpath+fw)\n",
        "    \n",
        "    print(\"start X\")\n",
        "    \n",
        "    root = X.getroot()\n",
        "    rows = []\n",
        "\n",
        "    for doc in root.findall(pppp+\"page\"):\n",
        "\n",
        "        n_iter += 1\n",
        "        #n+=1\n",
        "        #if n>10:\n",
        "        #    break\n",
        "        #print(n_iter)\n",
        "\n",
        "        if doc.findall(pppp+'revision') is not None:\n",
        "\n",
        "            for ic,child in enumerate(doc.findall(pppp+'revision')):\n",
        "\n",
        "                #s = child.text\n",
        "\n",
        "\n",
        "                #print(child.tag,s)\n",
        "\n",
        "                for gchild in child.findall(pppp+'text'):\n",
        "                    s = gchild.text\n",
        "                    if s == '' or type(s) is not str:\n",
        "                        print(f\"s : {s}\")\n",
        "                        continue\n",
        "\n",
        "                    s = p51.sub('',p49.sub('',p48.sub('',p47.sub('',p46.sub('',\n",
        "                            p45.sub('',p33.sub('',p31.sub('',p27.sub('',\n",
        "                            p25.sub('',p23.sub('',p19.sub(' ',\n",
        "                            p17.sub('\\g<t17>',p15.sub('',\n",
        "                            p11.sub('',p9.sub('',p7.sub('',\n",
        "                            p1.sub('',p5.sub('',p3.sub('',\n",
        "                            p21.sub('\\g<t21> \\g<t21_1>',s)))))))))))))))))))))\n",
        "\n",
        "                    #print(s)\n",
        "                    #s = p15.sub('',p13.sub('',p11.sub('',p9.sub('',p7.sub('',\n",
        "                    #        p1.sub('',p5.sub('',p3.sub('',s))))))))\n",
        "                    s = [x for x in s.split('\\n')]\n",
        "                    for x in s:\n",
        "                        if (p0.match(x) is None and len(x)>200 and p29.search(x) is None and\n",
        "                            p37.search(x) is None and\n",
        "                            sum([1 if pp.search(x[:200]) is not None else 0 for pp in p_m2]) <3):\n",
        "\n",
        "                            xx = [s for s in ('\\n'+z.sub(' ',p41.sub('\\g<t41a>.Ħ\\g<t41b>',\n",
        "                                                p36.sub('',p35.sub('\\g<t35>Ħ',\n",
        "                                                p34.sub('\\g<t34>ħ ',x)))))\n",
        "                                                .strip()).split('Ħ') \n",
        "                                     if len(s)<350 and p39.search(s) is None and  \n",
        "                                               p53.search(s) is None and p43.search(s) is not None]\n",
        "\n",
        "\n",
        "\n",
        "                            #print(\"starting xx\")\n",
        "                            #print(xx,'\\n')\n",
        "                            xx = [s for s in xx if len(p57.findall(s[:100]))/len(s[:100]) >0.7]\n",
        "                            #print(\"second starting xx\")\n",
        "                            #print(xx,'\\n')\n",
        "                            xl = []\n",
        "                            for i,s in enumerate(xx):\n",
        "                                if i>0 and len(xl[-1]) + len(s) < 100:\n",
        "                                    xl[-1]+=' '+s\n",
        "                                else:\n",
        "                                    xl.append(s)\n",
        "                            #print(\"starting xl\")\n",
        "                            #print(xl,'\\n')\n",
        "\n",
        "                            txtX += xl               \n",
        "                            #sum([1 if pp.search(x[:400]) is not None else 0 for pp in p_m]) <3):\n",
        "                            #print(z.sub(' ',x.strip()), '\\n')\n",
        "                            #txtX.append(z.sub(' ',x.strip()))\n",
        "\n",
        "\n",
        "        else:\n",
        "            print(\"doc is None\")\n",
        "\n",
        "\n",
        "        if n_iter % step == 0:\n",
        "            #with open('wiki_en.txt','a') as f:\n",
        "            with open(path+'wiki_ko'+str(n_iter//fstep)+'.txt','a') as f:\n",
        "                f.write('\\n'.join(txtX)+'\\n')\n",
        "\n",
        "            txtX = [] \n",
        "\n",
        "            if n_iter % fstep == 0:\n",
        "                with open(path+'wiki_ko'+str(n_iter//fstep)+'.txt','w') as f:\n",
        "                    f.write('')\n",
        "\n",
        "with open(path+'wiki_ko'+str(n_iter//fstep)+'.txt','a') as f:\n",
        "    f.write('\\n'.join(txtX))   \n",
        "    \n",
        "    "
      ],
      "execution_count": null,
      "outputs": []
    },
    {
      "cell_type": "code",
      "metadata": {
        "id": "LViaUmJc_Rib"
      },
      "source": [
        ""
      ],
      "execution_count": null,
      "outputs": []
    }
  ]
}